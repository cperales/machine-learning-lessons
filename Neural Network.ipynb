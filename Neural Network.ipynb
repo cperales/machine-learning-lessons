{
 "cells": [
  {
   "cell_type": "code",
   "execution_count": 1,
   "metadata": {},
   "outputs": [],
   "source": [
    "import numpy as np\n",
    "from sklearn import datasets\n",
    "from sklearn.model_selection import train_test_split"
   ]
  },
  {
   "cell_type": "code",
   "execution_count": 2,
   "metadata": {},
   "outputs": [
    {
     "name": "stdout",
     "output_type": "stream",
     "text": [
      "Data shape (506, 13)\n",
      "Target shape (506,)\n",
      "New target shape (506, 1)\n"
     ]
    }
   ],
   "source": [
    "data, target = datasets.load_boston(return_X_y=True)\n",
    "print('Data shape', data.shape)\n",
    "print('Target shape', target.shape)\n",
    "target = target.reshape(-1, 1)\n",
    "print('New target shape', target.shape)"
   ]
  },
  {
   "cell_type": "code",
   "execution_count": 3,
   "metadata": {},
   "outputs": [],
   "source": [
    "def rmse_error(pred, y):\n",
    "    return np.mean((pred-y)**2)"
   ]
  },
  {
   "cell_type": "code",
   "execution_count": 4,
   "metadata": {},
   "outputs": [],
   "source": [
    "def sigmoid(z):\n",
    "    return 1 / (1 + np.exp(-z))"
   ]
  },
  {
   "cell_type": "code",
   "execution_count": 5,
   "metadata": {},
   "outputs": [],
   "source": [
    "class NN(object):\n",
    "    def __init__(self, s, learning_rate, iterations=100):\n",
    "        np.random.seed(0)\n",
    "        self.s = s\n",
    "        self.learning_rate = learning_rate\n",
    "        self.iterations = iterations\n",
    "\n",
    "    def fit(self, X, y):\n",
    "        self.X = X\n",
    "        self.y = y\n",
    "        self.d = X.shape[1]\n",
    "        self.w_1 = np.random.random((self.s, self.d)) * 2 - 1\n",
    "        self.b_1 = np.random.random((1, self.s))\n",
    "        self.w_2 = np.random.random((1, self.s)) * 2 - 1\n",
    "        self.b_2 = np.random.random((1, 1))\n",
    "\n",
    "        for i in range(self.iterations):\n",
    "#             # For printing\n",
    "#             pred = self.predict(X)\n",
    "#             rmse = rmse_error(pred, y)\n",
    "#             print('Iteration', i, ' error =', rmse)\n",
    "            # For optimization\n",
    "            self.optimization()\n",
    "\n",
    "    def predict(self, X_test):\n",
    "        self.z_1 = np.dot(X_test, self.w_1.T) + self.b_1\n",
    "        # Sigmoid activation\n",
    "        self.a_1 = sigmoid(self.z_1)\n",
    "\n",
    "        self.z_2 = np.dot(self.a_1, self.w_2.T) + self.b_2\n",
    "        # Linear activation\n",
    "        self.a_2 = self.z_2\n",
    "\n",
    "        return self.a_2\n",
    "\n",
    "    def optimization(self):\n",
    "        der_C_a_2 = self.predict(self.X) - self.y\n",
    "        der_a_2_z_2 = 1\n",
    "        der_z_2_w_2 = self.a_1\n",
    "        der_z_2_b_2 = 1\n",
    "\n",
    "        delta = der_C_a_2 * der_a_2_z_2\n",
    "        der_C_w_2 = delta * der_z_2_w_2\n",
    "        der_C_b_2 = delta * der_z_2_b_2\n",
    "\n",
    "        w_2 = self.w_2 - self.learning_rate * np.mean(der_C_w_2, axis=0)\n",
    "        b_2 = self.b_2 - self.learning_rate * np.mean(der_C_b_2, axis=0)\n",
    "\n",
    "        der_z_2_a_1 = self.w_2  # (1, s)\n",
    "        der_a_1_z_1 = self.a_1 * (1 - self.a_1)  # (n, s)\n",
    "        der_z_1_w_1 = self.X  # (n, k)\n",
    "        der_z_1_b_1 = 1\n",
    "\n",
    "        der_C_w_1 = np.dot((delta * der_z_2_a_1 * der_a_1_z_1).T, der_z_1_w_1)\n",
    "        der_C_b_1 = delta * der_z_2_a_1 * der_a_1_z_1 * der_z_1_b_1\n",
    "\n",
    "        w_1 = self.w_1 - self.learning_rate * der_C_w_1\n",
    "        b_1 = self.b_1 - self.learning_rate * np.mean(der_C_b_1, axis=0)\n",
    "\n",
    "        self.w_1 = w_1\n",
    "        self.b_1 = b_1\n",
    "        self.w_2 = w_2\n",
    "        self.b_2 = b_2"
   ]
  },
  {
   "cell_type": "code",
   "execution_count": 6,
   "metadata": {},
   "outputs": [],
   "source": [
    "X_train, X_test, y_train, y_test = train_test_split(data, target, test_size=0.33, random_state=0)"
   ]
  },
  {
   "cell_type": "code",
   "execution_count": 7,
   "metadata": {},
   "outputs": [],
   "source": [
    "s_grid = [10*i for i in range(1, 11)]\n",
    "learning_grid = [10**i for i in range(-3, 1)]"
   ]
  },
  {
   "cell_type": "code",
   "execution_count": 8,
   "metadata": {},
   "outputs": [
    {
     "name": "stderr",
     "output_type": "stream",
     "text": [
      "/home/carlos/pruebas/machine-learning-lessons/env/lib/python3.7/site-packages/ipykernel_launcher.py:2: RuntimeWarning: overflow encountered in exp\n",
      "  \n",
      "/home/carlos/pruebas/machine-learning-lessons/env/lib/python3.7/site-packages/numpy/core/_methods.py:151: RuntimeWarning: overflow encountered in reduce\n",
      "  ret = umr_sum(arr, axis, dtype, out, keepdims)\n",
      "/home/carlos/pruebas/machine-learning-lessons/env/lib/python3.7/site-packages/ipykernel_launcher.py:54: RuntimeWarning: overflow encountered in multiply\n",
      "/home/carlos/pruebas/machine-learning-lessons/env/lib/python3.7/site-packages/ipykernel_launcher.py:54: RuntimeWarning: invalid value encountered in multiply\n",
      "/home/carlos/pruebas/machine-learning-lessons/env/lib/python3.7/site-packages/ipykernel_launcher.py:55: RuntimeWarning: overflow encountered in multiply\n",
      "/home/carlos/pruebas/machine-learning-lessons/env/lib/python3.7/site-packages/ipykernel_launcher.py:55: RuntimeWarning: invalid value encountered in multiply\n"
     ]
    }
   ],
   "source": [
    "best_rmse = np.inf\n",
    "best_s = None\n",
    "best_learning_rate = None\n",
    "resultados = np.empty(())\n",
    "for s in s_grid:\n",
    "    for learning_rate in learning_grid:\n",
    "        nn = NN(s=s, learning_rate=learning_rate)\n",
    "        nn.fit(X_train, y_train)\n",
    "        pred = nn.predict(X_test)\n",
    "        rmse = rmse_error(pred, y_test)\n",
    "        if rmse < best_rmse:\n",
    "            best_learning_rate = learning_rate\n",
    "            best_s = s\n",
    "            best_rmse = rmse"
   ]
  },
  {
   "cell_type": "code",
   "execution_count": 9,
   "metadata": {},
   "outputs": [
    {
     "name": "stdout",
     "output_type": "stream",
     "text": [
      "Best rmse is 73.91627713148064\n",
      "Configuration is: s = 100 , learning_rate = 1\n"
     ]
    }
   ],
   "source": [
    "print('Best rmse is', best_rmse)\n",
    "print('Configuration is: s =', s, ', learning_rate =', learning_rate)"
   ]
  }
 ],
 "metadata": {
  "kernelspec": {
   "display_name": "Python 3",
   "language": "python",
   "name": "python3"
  },
  "language_info": {
   "codemirror_mode": {
    "name": "ipython",
    "version": 3
   },
   "file_extension": ".py",
   "mimetype": "text/x-python",
   "name": "python",
   "nbconvert_exporter": "python",
   "pygments_lexer": "ipython3",
   "version": "3.7.9"
  }
 },
 "nbformat": 4,
 "nbformat_minor": 4
}
